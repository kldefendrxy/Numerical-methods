{
 "cells": [
  {
   "cell_type": "markdown",
   "metadata": {},
   "source": [
    "## Простой Метод Гаусса"
   ]
  },
  {
   "cell_type": "code",
   "execution_count": 19,
   "metadata": {},
   "outputs": [],
   "source": [
    "import numpy as np\n",
    "\n",
    "def simple_gauss_method(A, b):\n",
    "    \"\"\"\n",
    "    Простой метод Гаусса (без выбора опорного элемента):\n",
    "    прямой ход + обратная подстановка.\n",
    "    \"\"\"\n",
    "    A = A.astype(float)\n",
    "    b = b.astype(float)\n",
    "    n = len(b)\n",
    "\n",
    "    # Прямой ход\n",
    "    for i in range(n):\n",
    "        if abs(A[i, i]) < 1e-12:\n",
    "            raise ValueError(\"Нулевой или почти нулевой диагональный элемент.\")\n",
    "        for j in range(i + 1, n):\n",
    "            factor = A[j, i] / A[i, i]\n",
    "            A[j, i:] -= factor * A[i, i:]\n",
    "            b[j] -= factor * b[i]\n",
    "\n",
    "    # Обратный ход\n",
    "    x = np.zeros(n)\n",
    "    for i in range(n - 1, -1, -1):\n",
    "        x[i] = (b[i] - np.dot(A[i, i+1:], x[i+1:])) / A[i, i]\n",
    "\n",
    "    return x"
   ]
  },
  {
   "cell_type": "markdown",
   "metadata": {},
   "source": [
    "#### Пример использования:"
   ]
  },
  {
   "cell_type": "code",
   "execution_count": 26,
   "metadata": {},
   "outputs": [
    {
     "name": "stdout",
     "output_type": "stream",
     "text": [
      "Решение:\n",
      " [2.         1.33333333]\n"
     ]
    }
   ],
   "source": [
    "A = np.array([\n",
    "    [2, 3],\n",
    "    [4, 9]\n",
    "])\n",
    "b = np.array([8, 20])\n",
    "\n",
    "solution = simple_gauss_method(A, b)\n",
    "print(\"Решение:\\n\", solution)"
   ]
  },
  {
   "cell_type": "markdown",
   "metadata": {},
   "source": [
    "## Метод Жордана-Гаусса"
   ]
  },
  {
   "cell_type": "code",
   "execution_count": 27,
   "metadata": {},
   "outputs": [],
   "source": [
    "def gauss_jordan(A, b):\n",
    "    \n",
    "    A = np.array(A, dtype=float)\n",
    "    b = np.array(b, dtype=float).reshape(-1, 1)\n",
    "    n = len(b)\n",
    "\n",
    "    # Расширенная матрица [A | b]\n",
    "    Ab = np.hstack((A, b))\n",
    "\n",
    "    # Прямой и обратный ход (Жордана)\n",
    "    for i in range(n):\n",
    "        pivot = Ab[i, i]\n",
    "        if abs(pivot) < 1e-12:\n",
    "            raise ValueError(\"Нулевой или почти нулевой ведущий элемент.\")\n",
    "        Ab[i] = Ab[i] / pivot  # делаем ведущий элемент = 1\n",
    "\n",
    "        for k in range(n):\n",
    "            if k != i:\n",
    "                factor = Ab[k, i]\n",
    "                Ab[k] -= factor * Ab[i]\n",
    "\n",
    "    # Ответ — последний столбец\n",
    "    return Ab[:, -1]"
   ]
  },
  {
   "cell_type": "markdown",
   "metadata": {},
   "source": [
    "#### Пример использования:"
   ]
  },
  {
   "cell_type": "code",
   "execution_count": 28,
   "metadata": {},
   "outputs": [
    {
     "name": "stdout",
     "output_type": "stream",
     "text": [
      "Решение:\n",
      " [2.         1.33333333]\n"
     ]
    }
   ],
   "source": [
    "solution = gauss_jordan(A, b)\n",
    "\n",
    "print(\"Решение:\\n\", solution)"
   ]
  },
  {
   "cell_type": "markdown",
   "metadata": {},
   "source": [
    "## Метод Гаусса с методом исключения"
   ]
  },
  {
   "cell_type": "code",
   "execution_count": 23,
   "metadata": {},
   "outputs": [],
   "source": [
    "def gauss_elimination_only(A, b):\n",
    "    \"\"\"\n",
    "    Метод Гаусса с методом исключения (только прямой ход).\n",
    "    Возвращает верхнетреугольную матрицу и изменённый вектор b.\n",
    "    \"\"\"\n",
    "    A = A.astype(float)\n",
    "    b = b.astype(float)\n",
    "    n = len(b)\n",
    "\n",
    "    # Прямой ход\n",
    "    for i in range(n):\n",
    "        if abs(A[i, i]) < 1e-12:\n",
    "            raise ValueError(\"Нулевой или почти нулевой диагональный элемент.\")\n",
    "        for j in range(i + 1, n):\n",
    "            factor = A[j, i] / A[i, i]\n",
    "            A[j, i:] -= factor * A[i, i:]\n",
    "            b[j] -= factor * b[i]\n",
    "\n",
    "    return A, b"
   ]
  },
  {
   "cell_type": "code",
   "execution_count": 25,
   "metadata": {},
   "outputs": [
    {
     "name": "stdout",
     "output_type": "stream",
     "text": [
      "Решение:\n",
      " (array([[2., 3.],\n",
      "       [0., 3.]]), array([8., 4.]))\n"
     ]
    }
   ],
   "source": [
    "solution = gauss_elimination_only(A, b)\n",
    "\n",
    "print(\"Решение:\\n\", solution)"
   ]
  },
  {
   "cell_type": "markdown",
   "metadata": {},
   "source": [
    "## Метод LU-разложения"
   ]
  },
  {
   "cell_type": "code",
   "execution_count": 30,
   "metadata": {},
   "outputs": [],
   "source": [
    "def lu_decomposition(A):\n",
    "    \"\"\"\n",
    "    Выполняет LU-разложение матрицы A без выбора главного элемента.\n",
    "    Возвращает L и U такие, что A = L @ U\n",
    "    \"\"\"\n",
    "    A = np.array(A, dtype=float)\n",
    "    n = A.shape[0]\n",
    "    \n",
    "    L = np.eye(n)\n",
    "    U = np.zeros_like(A)\n",
    "\n",
    "    for i in range(n):\n",
    "        for j in range(i, n):  # элементы верхнего треугольника\n",
    "            U[i, j] = A[i, j] - np.dot(L[i, :i], U[:i, j])\n",
    "        for j in range(i + 1, n):  # элементы нижнего треугольника\n",
    "            if abs(U[i, i]) < 1e-12:\n",
    "                raise ValueError(\"Нулевой элемент на диагонали — разложение невозможно без перестановки.\")\n",
    "            L[j, i] = (A[j, i] - np.dot(L[j, :i], U[:i, i])) / U[i, i]\n",
    "    \n",
    "    return L, U\n",
    "\n",
    "def forward_substitution(L, b):\n",
    "    n = len(b)\n",
    "    y = np.zeros(n)\n",
    "    for i in range(n):\n",
    "        y[i] = b[i] - np.dot(L[i, :i], y[:i])\n",
    "    return y\n",
    "\n",
    "def backward_substitution(U, y):\n",
    "    n = len(y)\n",
    "    x = np.zeros(n)\n",
    "    for i in range(n - 1, -1, -1):\n",
    "        x[i] = (y[i] - np.dot(U[i, i + 1:], x[i + 1:])) / U[i, i]\n",
    "    return x"
   ]
  },
  {
   "cell_type": "code",
   "execution_count": 31,
   "metadata": {},
   "outputs": [
    {
     "name": "stdout",
     "output_type": "stream",
     "text": [
      "L =\n",
      " [[1. 0.]\n",
      " [2. 1.]]\n",
      "U =\n",
      " [[2. 3.]\n",
      " [0. 3.]]\n",
      "Решение x: [2.         1.33333333]\n"
     ]
    }
   ],
   "source": [
    "L, U = lu_decomposition(A)\n",
    "print(\"L =\\n\", L)\n",
    "print(\"U =\\n\", U)\n",
    "\n",
    "y = forward_substitution(L, b)\n",
    "x = backward_substitution(U, y)\n",
    "\n",
    "print(\"Решение x:\", x)"
   ]
  },
  {
   "cell_type": "code",
   "execution_count": null,
   "metadata": {},
   "outputs": [],
   "source": []
  }
 ],
 "metadata": {
  "kernelspec": {
   "display_name": "Python 3",
   "language": "python",
   "name": "python3"
  },
  "language_info": {
   "codemirror_mode": {
    "name": "ipython",
    "version": 3
   },
   "file_extension": ".py",
   "mimetype": "text/x-python",
   "name": "python",
   "nbconvert_exporter": "python",
   "pygments_lexer": "ipython3",
   "version": "3.11.5"
  }
 },
 "nbformat": 4,
 "nbformat_minor": 2
}
