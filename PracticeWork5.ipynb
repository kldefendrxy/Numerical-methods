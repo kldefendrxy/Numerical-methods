{
 "cells": [
  {
   "cell_type": "code",
   "execution_count": 1,
   "metadata": {},
   "outputs": [],
   "source": [
    "import numpy as np"
   ]
  },
  {
   "cell_type": "code",
   "execution_count": 2,
   "metadata": {},
   "outputs": [],
   "source": [
    "# Попытка привести матрицу к диагонально-доминантному виду\n",
    "def make_diagonally_dominant(A, b):\n",
    "    n = len(A)\n",
    "    new_A = np.zeros_like(A)\n",
    "    new_b = np.zeros_like(b)\n",
    "    remaining_rows = set(range(n))\n",
    "\n",
    "    for col in range(n):\n",
    "        max_row = -1\n",
    "        max_val = -np.inf\n",
    "        for row in remaining_rows:\n",
    "            if abs(A[row, col]) > max_val:\n",
    "                max_val = abs(A[row, col])\n",
    "                max_row = row\n",
    "\n",
    "        if max_row == -1:\n",
    "            raise ValueError(\"Матрица не может быть приведена к диагонально-доминирующему виду\")\n",
    "        new_A[col] = A[max_row]\n",
    "        new_b[col] = b[max_row]\n",
    "        remaining_rows.remove(max_row)\n",
    "\n",
    "    for i in range(n):\n",
    "        row_sum = np.sum(np.abs(new_A[i])) - np.abs(new_A[i, i])\n",
    "        if np.abs(new_A[i, i]) <= row_sum:\n",
    "            print(\"Не удалось достичь строгого диагонального преобладания\")\n",
    "\n",
    "    return new_A, new_b"
   ]
  },
  {
   "cell_type": "code",
   "execution_count": 3,
   "metadata": {},
   "outputs": [],
   "source": [
    "# Метод простых итераций\n",
    "def simpiter_method(A, b, max_iter=1000, e=1e-10, ensure_dominance=True):\n",
    "    if ensure_dominance:\n",
    "        A, b = make_diagonally_dominant(A, b)\n",
    "\n",
    "    n = len(b)\n",
    "    x = np.zeros(n)\n",
    "    for k in range(max_iter):\n",
    "        x_new = np.zeros(n)\n",
    "        for i in range(n):\n",
    "            s = np.dot(A[i, :], x) - A[i, i] * x[i]\n",
    "            x_new[i] = (b[i] - s) / A[i, i]\n",
    "        if np.linalg.norm(x_new - x) < e:\n",
    "            return x_new, k + 1\n",
    "        x = x_new.copy()\n",
    "\n",
    "    print(\"Достигнуто максимальное число итераций.\")\n",
    "    return x, max_iter"
   ]
  },
  {
   "cell_type": "code",
   "execution_count": 4,
   "metadata": {},
   "outputs": [],
   "source": [
    "# Метод Зейделя\n",
    "def seidel_method(A, b, e=1e-10, max_iter=1000, ensure_dominance=True):\n",
    "    if ensure_dominance:\n",
    "        A, b = make_diagonally_dominant(A, b)\n",
    "\n",
    "    n = len(A)\n",
    "    x = np.zeros(n)\n",
    "    for iteration in range(max_iter):\n",
    "        x_prev = np.copy(x)\n",
    "        for i in range(n):\n",
    "            sigma = np.dot(A[i, :i], x[:i]) + np.dot(A[i, i + 1:], x[i + 1:])\n",
    "            x[i] = (b[i] - sigma) / A[i, i]\n",
    "        if np.linalg.norm(x - x_prev) < e:\n",
    "            return x, iteration + 1\n",
    "\n",
    "    print(f\"Достигнуто максимальное число итераций ({max_iter})\")\n",
    "    return x, max_iter"
   ]
  },
  {
   "cell_type": "code",
   "execution_count": 5,
   "metadata": {},
   "outputs": [
    {
     "name": "stdout",
     "output_type": "stream",
     "text": [
      "Исходная матрица A:\n",
      "[[ 2.  2. 10.]\n",
      " [10.  1.  1.]\n",
      " [ 2. 10.  1.]]\n",
      "Вектор b: [14. 12. 13.]\n",
      "\n",
      "Решение методом простых итераций:\n",
      "x = [1. 1. 1.]\n",
      "Итераций: 21\n",
      "Проверка (Ax - b): [5.75468562e-11 3.62518904e-11 4.56754634e-11]\n",
      "\n",
      "Решение методом Зейделя:\n",
      "x = [1. 1. 1.]\n",
      "Итераций: 9\n",
      "Проверка (Ax - b): [ 1.77635684e-15 -2.82440737e-13  1.83852933e-11]\n"
     ]
    }
   ],
   "source": [
    "# Пример использования\n",
    "A = np.array([[2, 2, 10],\n",
    "              [10, 1, 1],\n",
    "              [2, 10, 1]], dtype=float)\n",
    "b = np.array([14, 12, 13], dtype=float)\n",
    "\n",
    "print(\"Исходная матрица A:\")\n",
    "print(A)\n",
    "print(\"Вектор b:\", b)\n",
    "\n",
    "x_si, it_si = simpiter_method(A, b)\n",
    "print(\"\\nРешение методом простых итераций:\")\n",
    "print(\"x =\", x_si)\n",
    "print(\"Итераций:\", it_si)\n",
    "print(\"Проверка (Ax - b):\", np.dot(A, x_si) - b)\n",
    "\n",
    "x_sz, it_sz = seidel_method(A, b)\n",
    "print(\"\\nРешение методом Зейделя:\")\n",
    "print(\"x =\", x_sz)\n",
    "print(\"Итераций:\", it_sz)\n",
    "print(\"Проверка (Ax - b):\", np.dot(A, x_sz) - b)"
   ]
  },
  {
   "cell_type": "code",
   "execution_count": null,
   "metadata": {},
   "outputs": [],
   "source": []
  }
 ],
 "metadata": {
  "kernelspec": {
   "display_name": "Python 3",
   "language": "python",
   "name": "python3"
  },
  "language_info": {
   "codemirror_mode": {
    "name": "ipython",
    "version": 3
   },
   "file_extension": ".py",
   "mimetype": "text/x-python",
   "name": "python",
   "nbconvert_exporter": "python",
   "pygments_lexer": "ipython3",
   "version": "3.11.5"
  }
 },
 "nbformat": 4,
 "nbformat_minor": 2
}
