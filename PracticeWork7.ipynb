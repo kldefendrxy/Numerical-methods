{
 "cells": [
  {
   "cell_type": "code",
   "execution_count": 1,
   "metadata": {},
   "outputs": [],
   "source": [
    "import numpy as np\n",
    "\n",
    "\n",
    "def jacobi_eigen(A, eps=1e-10, max_iter=100):\n",
    "    n = A.shape[0]\n",
    "\n",
    "    # Проверяем на симметричность:\n",
    "    if not np.allclose(A, A.T):\n",
    "        print(ValueError(\"Матрица должна быть симметричной\"))\n",
    "        return -1\n",
    "\n",
    "    # Матрица собственных векторов:\n",
    "    V = np.eye(n)\n",
    "\n",
    "    for _ in range(max_iter):\n",
    "\n",
    "        # Максимальный по модулю недиагональный элемент:\n",
    "        max_val = 0\n",
    "        p, q = 0, 0\n",
    "        for i in range(n):\n",
    "            for j in range(i + 1, n):\n",
    "                if abs(A[i, j]) > max_val:\n",
    "                    max_val = abs(A[i, j])\n",
    "                    p, q = i, j\n",
    "\n",
    "        # Проверяем на достижение точности\n",
    "        if max_val < eps:\n",
    "            break\n",
    "\n",
    "        # Вычисляем угол поворота\n",
    "        if A[p, p] == A[q, q]:\n",
    "            phi = np.pi / 4\n",
    "        else:\n",
    "            phi = 0.5 * np.arctan(2 * A[p, q] / (A[p, p] - A[q, q]))\n",
    "\n",
    "        # Формируем матрицу вращения\n",
    "        H = np.eye(n)\n",
    "        c = np.cos(phi)\n",
    "        s = np.sin(phi)\n",
    "        H[p, p] = c\n",
    "        H[q, q] = c\n",
    "        H[p, q] = -s\n",
    "        H[q, p] = s\n",
    "\n",
    "        # Матричное перемножение\n",
    "        A = H.T @ A @ H\n",
    "\n",
    "        V = V @ H\n",
    "\n",
    "    # Собственные значения - диагональные элементы\n",
    "    eigenvalues = np.diag(A)\n",
    "    # Собственные векторы - столбцы матрицы V\n",
    "    eigenvectors = V\n",
    "\n",
    "    return eigenvalues, eigenvectors\n"
   ]
  },
  {
   "cell_type": "code",
   "execution_count": 2,
   "metadata": {},
   "outputs": [
    {
     "name": "stdout",
     "output_type": "stream",
     "text": [
      "Исходная матрица:\n",
      "[[5 1]\n",
      " [1 4]]\n",
      "\n",
      "Собственные значения: \n",
      "[5.61803399 3.38196601]\n",
      "\n",
      "Собственные векторы (в столбцах): \n",
      "[[ 0.85065081 -0.52573111]\n",
      " [ 0.52573111  0.85065081]]\n"
     ]
    }
   ],
   "source": [
    "# Проверяем работу\n",
    "A = np.array([[5, 1],\n",
    "              [1, 4]])\n",
    "\n",
    "print(\"Исходная матрица:\")\n",
    "print(A)\n",
    "\n",
    "eigenvalues, eigenvectors = jacobi_eigen(A)\n",
    "\n",
    "print(\"\\nСобственные значения: \")\n",
    "print(eigenvalues)\n",
    "\n",
    "print(\"\\nСобственные векторы (в столбцах): \")\n",
    "print(eigenvectors)"
   ]
  },
  {
   "cell_type": "code",
   "execution_count": 3,
   "metadata": {},
   "outputs": [
    {
     "name": "stdout",
     "output_type": "stream",
     "text": [
      "Исходная матрица:\n",
      "[[5 1 2]\n",
      " [1 4 1]\n",
      " [2 1 3]]\n",
      "\n",
      "Собственные значения: \n",
      "[6.89510652 3.39729507 1.70759841]\n",
      "\n",
      "Собственные векторы (в столбцах): \n",
      "[[ 0.75257583 -0.45794385 -0.47319874]\n",
      " [ 0.43170413  0.88573564 -0.17059871]\n",
      " [ 0.49725362 -0.07589338  0.86427949]]\n"
     ]
    }
   ],
   "source": [
    "# Матрица 3x3\n",
    "A = np.array([[5, 1, 2],\n",
    "              [1, 4, 1],\n",
    "              [2, 1, 3]])\n",
    "\n",
    "print(\"Исходная матрица:\")\n",
    "print(A)\n",
    "\n",
    "eigenvalues, eigenvectors = jacobi_eigen(A)\n",
    "\n",
    "print(\"\\nСобственные значения: \")\n",
    "print(eigenvalues)\n",
    "\n",
    "print(\"\\nСобственные векторы (в столбцах): \")\n",
    "print(eigenvectors)"
   ]
  },
  {
   "cell_type": "code",
   "execution_count": null,
   "metadata": {},
   "outputs": [],
   "source": []
  }
 ],
 "metadata": {
  "kernelspec": {
   "display_name": "Python 3",
   "language": "python",
   "name": "python3"
  },
  "language_info": {
   "codemirror_mode": {
    "name": "ipython",
    "version": 3
   },
   "file_extension": ".py",
   "mimetype": "text/x-python",
   "name": "python",
   "nbconvert_exporter": "python",
   "pygments_lexer": "ipython3",
   "version": "3.11.5"
  }
 },
 "nbformat": 4,
 "nbformat_minor": 2
}
