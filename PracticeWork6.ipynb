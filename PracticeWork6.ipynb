{
 "cells": [
  {
   "cell_type": "code",
   "execution_count": 4,
   "metadata": {},
   "outputs": [
    {
     "name": "stdout",
     "output_type": "stream",
     "text": [
      "Собственное значение: 4.999999999999999\n",
      "Собственный вектор: [-0.70710678  0.70710678]\n"
     ]
    }
   ],
   "source": [
    "import numpy as np\n",
    "\n",
    "def power_iteration(A, num_iter=1000, e=1e-8):\n",
    "    n, _ = A.shape\n",
    "    x_k = np.random.rand(n)\n",
    "\n",
    "    for i in range(num_iter):\n",
    "        x_k1 = A @ x_k\n",
    "\n",
    "        if i % 5 == 0:\n",
    "            x_k1_norm = np.linalg.norm(x_k1)\n",
    "            x_k1 = x_k1 / x_k1_norm\n",
    "\n",
    "        if np.linalg.norm(x_k1 - x_k) < e:\n",
    "            break\n",
    "\n",
    "        x_k = x_k1\n",
    "\n",
    "    x_k = x_k / np.linalg.norm(x_k)\n",
    "\n",
    "    value = (x_k.T @ A @ x_k) / (x_k.T @ x_k)\n",
    "    vector = x_k\n",
    "\n",
    "    return value, vector\n",
    "\n",
    "A = np.array([[3, -2],\n",
    "              [-4, 1]])\n",
    "\n",
    "value, vector = power_iteration(A)\n",
    "print(\"Собственное значение:\", value)\n",
    "print(\"Собственный вектор:\", vector)"
   ]
  },
  {
   "cell_type": "code",
   "execution_count": 1,
   "metadata": {},
   "outputs": [],
   "source": [
    "import numpy as np\n",
    "\n",
    "def direct_method_eigen(A):\n",
    "    a, b = A[0, 0], A[0, 1]\n",
    "    c, d = A[1, 0], A[1, 1]\n",
    "\n",
    "    # Характеристическое уравнение: λ^2 - (a + d)λ + (ad - bc) = 0\n",
    "    trace = a + d\n",
    "    determinant = a * d - b * c\n",
    "    discriminant = trace**2 - 4 * determinant\n",
    "\n",
    "    if discriminant < 0:\n",
    "        raise ValueError(\"Собственные значения комплексные — метод не работает в текущем виде.\")\n",
    "\n",
    "    lambda1 = (trace + np.sqrt(discriminant)) / 2\n",
    "    lambda2 = (trace - np.sqrt(discriminant)) / 2\n",
    "\n",
    "    eigenvectors = []\n",
    "\n",
    "    for lambd in [lambda1, lambda2]:\n",
    "        # Решаем (A - λI)x = 0\n",
    "        matrix = A - lambd * np.eye(2)\n",
    "        # Однородная система — берём ненулевую строку и выражаем x2 через x1\n",
    "        if abs(matrix[0, 0]) > 1e-6 or abs(matrix[0, 1]) > 1e-6:\n",
    "            x2 = 1\n",
    "            x1 = -matrix[0, 1] * x2 / matrix[0, 0] if abs(matrix[0, 0]) > 1e-6 else 1\n",
    "        else:\n",
    "            x1, x2 = 1, 0\n",
    "\n",
    "        vec = np.array([x1, x2])\n",
    "        vec = vec / np.linalg.norm(vec)\n",
    "        eigenvectors.append(vec)\n",
    "\n",
    "    return [lambda1, lambda2], eigenvectors"
   ]
  },
  {
   "cell_type": "code",
   "execution_count": 2,
   "metadata": {},
   "outputs": [
    {
     "name": "stdout",
     "output_type": "stream",
     "text": [
      "Собственные значения: [5.0, -1.0]\n",
      "Собственный вектор 1: [-0.70710678  0.70710678]\n",
      "Собственный вектор 2: [0.4472136  0.89442719]\n"
     ]
    }
   ],
   "source": [
    "A = np.array([[3, -2],\n",
    "              [-4, 1]])\n",
    "\n",
    "lambdas, vectors = direct_method_eigen(A)\n",
    "\n",
    "print(\"Собственные значения:\", lambdas)\n",
    "for i, vec in enumerate(vectors):\n",
    "    print(f\"Собственный вектор {i+1}:\", vec)"
   ]
  },
  {
   "cell_type": "code",
   "execution_count": null,
   "metadata": {},
   "outputs": [],
   "source": []
  }
 ],
 "metadata": {
  "kernelspec": {
   "display_name": "Python 3",
   "language": "python",
   "name": "python3"
  },
  "language_info": {
   "codemirror_mode": {
    "name": "ipython",
    "version": 3
   },
   "file_extension": ".py",
   "mimetype": "text/x-python",
   "name": "python",
   "nbconvert_exporter": "python",
   "pygments_lexer": "ipython3",
   "version": "3.11.5"
  }
 },
 "nbformat": 4,
 "nbformat_minor": 2
}
